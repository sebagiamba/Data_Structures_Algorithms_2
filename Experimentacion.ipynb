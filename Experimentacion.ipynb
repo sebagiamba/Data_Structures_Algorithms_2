{
 "cells": [
  {
   "cell_type": "code",
   "execution_count": 16,
   "metadata": {},
   "outputs": [],
   "source": [
    "import math, subprocess\n",
    "import subprocess\n",
    "import pandas as pd\n",
    "import numpy as np\n",
    "from IPython.display import display, clear_output\n",
    "import os"
   ]
  },
  {
   "cell_type": "code",
   "execution_count": 17,
   "metadata": {},
   "outputs": [],
   "source": [
    "def leerInstancia(path):\n",
    "    with open(path, \"r\") as f:\n",
    "        return f.read();"
   ]
  },
  {
   "cell_type": "code",
   "execution_count": 18,
   "metadata": {},
   "outputs": [],
   "source": [
    "def leerOptimo(instancia):\n",
    "    with open(F\"instancias/CMI_n{instancia}.out\", \"r\") as f:\n",
    "        return f.readlines()[0];"
   ]
  },
  {
   "cell_type": "code",
   "execution_count": 19,
   "metadata": {},
   "outputs": [],
   "source": [
    "def correrPrograma(argumentos, instancia):\n",
    "    #Leer archivo de la instancia\n",
    "    instancia = leerInstancia(instancia);\n",
    "    \n",
    "    #crear proceso para ejecutar el codigo.\n",
    "    process = subprocess.Popen(argumentos, stderr=subprocess.PIPE, stdout=subprocess.PIPE, stdin=subprocess.PIPE, universal_newlines = True)\n",
    "    \n",
    "    #Poner la instancia en la entrada standar.\n",
    "#     process.stdin.write(instancia)\n",
    "#     process.stdin.flush()\n",
    "    res = process.communicate(input=instancia);\n",
    "    \n",
    "    #print(res[0])\n",
    "    \n",
    "    resultados = res[0].split(\" \");\n",
    "    impacto = int(resultados[0]);\n",
    "    tiempo = float(resultados[1]);\n",
    "    \n",
    "#     print(F\"res: {res}\");\n",
    "#     print(F\"resultados: {resultados}\");\n",
    "#     print(F\"impacto: {impacto}\");\n",
    "    \n",
    "    #Correr experimento\n",
    "    exit_code = process.wait()\n",
    "    \n",
    "    #Verificar que no fallo.\n",
    "    if exit_code != 0: raise(F\"Hubo un error en la experimentacion para el programa: {programa} con la instancia {instancia}\")\n",
    "    \n",
    "    #Leer la salida de STDERR con los tiempos de ejecucion de cada metodo\n",
    "#     tiempo_de_ejecucion = float(process.stderr.read());\n",
    "    \n",
    "    process.stdin.close(); \n",
    "    process.stdout.close();\n",
    "    process.stderr.close();\n",
    "    \n",
    "    return (impacto, tiempo)"
   ]
  },
  {
   "cell_type": "code",
   "execution_count": 20,
   "metadata": {},
   "outputs": [],
   "source": [
    "def correrExperimentos(instancia, argumentos, parametro, valores_parametro, cant_repeticiones, output):   \n",
    "    filas = [];\n",
    "    columnas = [parametro, \"optimo\", \"impacto\", \"tiempo(ms)\"];\n",
    "    \n",
    "    parametro_i = 0;\n",
    "    print(F\"Instancia: {instancia}\");\n",
    "    for _argumentos in argumentos:\n",
    "        # Voy mostrando la instancia se esta ejecutando.\n",
    "        clear_output(wait=True);\n",
    "        print(F\"{parametro}: {valores_parametro[parametro_i]}\"); \n",
    "\n",
    "        # Ejecutamos el experimento cant_repeticiones veces y obtenemos la media.\n",
    "        impactos = [];\n",
    "        tiempos = [];\n",
    "        for i in range(0, cant_repeticiones):\n",
    "            print(_argumentos);\n",
    "            resultado = correrPrograma(_argumentos, F\"instancias/CMI_n{instancia}.in\");\n",
    "            impactos.append(resultado[0]);\n",
    "            tiempos.append(resultado[1]);\n",
    "            \n",
    "        impacto = np.median(impactos);\n",
    "        tiempo = np.median(tiempos);\n",
    "        \n",
    "        filas.append([\n",
    "            valores_parametro[parametro_i],\n",
    "            leerOptimo(instancia),\n",
    "            impacto,\n",
    "            tiempo\n",
    "        ]);\n",
    "        parametro_i = parametro_i + 1;\n",
    "\n",
    "    # Si no existe la carpeta la creo\n",
    "    exp_folder = \"experimentos/\";\n",
    "    if os.path.exists(F\"{exp_folder}\") == False:\n",
    "        os.mkdir(F\"{exp_folder}\")\n",
    "    df_resultado = pd.DataFrame(filas, columns=columnas);\n",
    "    df_resultado.to_csv(F\"{exp_folder}{output}\", index=False, header=True);"
   ]
  },
  {
   "cell_type": "code",
   "execution_count": 63,
   "metadata": {},
   "outputs": [],
   "source": [
    "def correrExperimentos2(instancias, argumentos, cant_repeticiones, output):   \n",
    "    filas = [];\n",
    "    columnas = [\"instancia\", \"optimo\", \"impacto\", \"tiempo(ms)\"];\n",
    "    \n",
    "    for instancia in instancias:\n",
    "        print(F\"Instancia {instancia}\");\n",
    "        \n",
    "        # Ejecutamos el experimento cant_repeticiones veces y obtenemos la media.\n",
    "        impactos = [];\n",
    "        tiempos = [];\n",
    "        for i in range(0, cant_repeticiones):\n",
    "            resultado = correrPrograma(argumentos, F\"instancias/CMI_n{instancia}.in\");\n",
    "            impactos.append(resultado[0]);\n",
    "            tiempos.append(resultado[1]);\n",
    "            \n",
    "        impacto = np.median(impactos);\n",
    "        tiempo = np.median(tiempos);\n",
    "        \n",
    "        filas.append([\n",
    "            instancia,\n",
    "            leerOptimo(instancia),\n",
    "            impacto,\n",
    "            tiempo\n",
    "        ]);\n",
    "\n",
    "    # Si no existe la carpeta la creo\n",
    "    exp_folder = \"experimentos/\";\n",
    "    if os.path.exists(F\"{exp_folder}\") == False:\n",
    "        os.mkdir(F\"{exp_folder}\")\n",
    "    df_resultado = pd.DataFrame(filas, columns=columnas);\n",
    "    df_resultado.to_csv(F\"{exp_folder}{output}\", index=False, header=True);"
   ]
  },
  {
   "cell_type": "markdown",
   "metadata": {},
   "source": [
    "#### Algoritmos Tabú: comparación de parámetros ####"
   ]
  },
  {
   "cell_type": "code",
   "execution_count": 113,
   "metadata": {},
   "outputs": [
    {
     "name": "stdout",
     "output_type": "stream",
     "text": [
      "memoria: 98\n",
      "['./PCMI', 'TABU4', 'H2', '150', '98', '70']\n",
      "['./PCMI', 'TABU4', 'H2', '150', '98', '70']\n",
      "['./PCMI', 'TABU4', 'H2', '150', '98', '70']\n"
     ]
    }
   ],
   "source": [
    "instancias = [6, 10, 14, 20, 24, 28];\n",
    "algoritmos = [\"TABU3\", \"TABU4\"];\n",
    "\n",
    "# Parametros\n",
    "algoritmos_base = [\"H1\", \"H2\"];\n",
    "iteraciones = [str(i) for i in range(1, 1000, 20)];\n",
    "tam_memoria = [str(i) for i in range(0, 100, 2)];\n",
    "vecindades = [\"0\", \"10\", \"20\", \"30\", \"40\", \"50\", \"60\", \"70\", \"80\", \"90\", \"100\"];\n",
    "\n",
    "repeticiones = 3;\n",
    "\n",
    "for algoritmo in algoritmos:\n",
    "    for instancia in instancias:\n",
    "        print(f\"Instancia: {instancia}\")\n",
    "        \n",
    "        _iteraciones = \"30\" if algoritmo == \"TABU3\" else \"150\";\n",
    "        vecindad = \"20\" if algoritmo == \"TABU3\" else \"70\";\n",
    "        _memoria = \"100\" if algoritmo == \"TABU3\" else \"100\";\n",
    "        \n",
    "        # Parámetro 1: Iteraciones\n",
    "#         argumentos = [];\n",
    "#         for iteracion in iteraciones:\n",
    "#             argumentos.append([\"./PCMI\", algoritmo, \"H2\", iteracion, \"10\", \"10\"]);\n",
    "#         correrExperimentos(instancia, argumentos, \"iteraciones\", iteraciones, repeticiones, F\"{algoritmo}_n{instancia}_iteraciones_1_1000.csv\");\n",
    "        \n",
    "        # Parámetro 1 (final): Iteraciones\n",
    "#         argumentos = [];\n",
    "#         for iteracion in iteraciones:\n",
    "#             argumentos.append([\"./PCMI\", algoritmo, \"H2\", iteracion, _memoria, vecindad]);\n",
    "#         correrExperimentos(instancia, argumentos, \"iteraciones\", iteraciones, repeticiones, F\"{algoritmo}_n{instancia}_iteraciones_1_1000_final.csv\");\n",
    "\n",
    "# #         # Parámetro 2: Vecindad\n",
    "#         argumentos = [];\n",
    "#         for vecindad in vecindades:\n",
    "#             argumentos.append([\"./PCMI\", algoritmo, \"H2\", _iteraciones, \"10\", vecindad]);\n",
    "#         correrExperimentos(instancia, argumentos, \"vecindad\", vecindades, repeticiones, F\"{algoritmo}_n{instancia}_vecindad.csv\");\n",
    "\n",
    "# # Parámetro 3: Memoria\n",
    "        argumentos = [];\n",
    "        for memoria in tam_memoria:\n",
    "            argumentos.append([\"./PCMI\", algoritmo, \"H2\", _iteraciones, memoria, vecindad]);\n",
    "        correrExperimentos(instancia, argumentos, \"memoria\", tam_memoria, repeticiones, F\"{algoritmo}_n{instancia}_memoria.csv\");"
   ]
  },
  {
   "cell_type": "code",
   "execution_count": 88,
   "metadata": {},
   "outputs": [
    {
     "name": "stdout",
     "output_type": "stream",
     "text": [
      "30\n"
     ]
    }
   ],
   "source": []
  },
  {
   "cell_type": "markdown",
   "metadata": {},
   "source": [
    "#### Comparación de Heurísticas Golosas ####"
   ]
  },
  {
   "cell_type": "code",
   "execution_count": 37,
   "metadata": {},
   "outputs": [
    {
     "name": "stdout",
     "output_type": "stream",
     "text": [
      "Instancia 6\n",
      "Instancia 10\n",
      "Instancia 14\n",
      "Instancia 20\n",
      "Instancia 24\n",
      "Instancia 28\n",
      "Instancia 6\n",
      "Instancia 10\n",
      "Instancia 14\n",
      "Instancia 20\n",
      "Instancia 24\n",
      "Instancia 28\n"
     ]
    }
   ],
   "source": [
    "instancias = [6, 10, 14, 20, 24, 28];\n",
    "_instancias = [6, 8, 10, 12, 14, 16, 18, 20, 22, 24, 26, 28, 30];\n",
    "\n",
    "algoritmos_base = [\"H1\", \"H2\"];\n",
    "repeticiones = 3;\n",
    "for algoritmo in algoritmos_base:\n",
    "    argumentos = [\"./PCMI\", algoritmo, \"H1\", \"999\", \"999\", \"999\"];\n",
    "    correrExperimentos2(instancias, argumentos, repeticiones, F\"heuristica_{algoritmo}.csv\");"
   ]
  },
  {
   "cell_type": "markdown",
   "metadata": {},
   "source": [
    "#### Parámetro Inicial: heurística ####"
   ]
  },
  {
   "cell_type": "code",
   "execution_count": 75,
   "metadata": {},
   "outputs": [
    {
     "name": "stdout",
     "output_type": "stream",
     "text": [
      "Instancia 6\n",
      "Instancia 10\n",
      "Instancia 14\n",
      "Instancia 20\n",
      "Instancia 24\n",
      "Instancia 28\n",
      "Instancia 6\n",
      "Instancia 10\n",
      "Instancia 14\n",
      "Instancia 20\n",
      "Instancia 24\n",
      "Instancia 28\n",
      "Instancia 6\n",
      "Instancia 10\n",
      "Instancia 14\n",
      "Instancia 20\n",
      "Instancia 24\n",
      "Instancia 28\n"
     ]
    },
    {
     "ename": "KeyboardInterrupt",
     "evalue": "",
     "output_type": "error",
     "traceback": [
      "\u001b[0;31m---------------------------------------------------------------------------\u001b[0m",
      "\u001b[0;31mKeyboardInterrupt\u001b[0m                         Traceback (most recent call last)",
      "\u001b[0;32m<ipython-input-75-045a32d66287>\u001b[0m in \u001b[0;36m<module>\u001b[0;34m\u001b[0m\n\u001b[1;32m      9\u001b[0m     \u001b[0;32mfor\u001b[0m \u001b[0malgoritmo\u001b[0m \u001b[0;32min\u001b[0m \u001b[0malgoritmos_base\u001b[0m\u001b[0;34m:\u001b[0m\u001b[0;34m\u001b[0m\u001b[0;34m\u001b[0m\u001b[0m\n\u001b[1;32m     10\u001b[0m         \u001b[0margumentos\u001b[0m \u001b[0;34m=\u001b[0m \u001b[0;34m[\u001b[0m\u001b[0;34m\"./PCMI\"\u001b[0m\u001b[0;34m,\u001b[0m \u001b[0mtabu\u001b[0m\u001b[0;34m,\u001b[0m \u001b[0malgoritmo\u001b[0m\u001b[0;34m,\u001b[0m \u001b[0;34m\"10\"\u001b[0m\u001b[0;34m,\u001b[0m \u001b[0;34m\"10\"\u001b[0m\u001b[0;34m,\u001b[0m \u001b[0;34m\"10\"\u001b[0m\u001b[0;34m]\u001b[0m\u001b[0;34m;\u001b[0m\u001b[0;34m\u001b[0m\u001b[0;34m\u001b[0m\u001b[0m\n\u001b[0;32m---> 11\u001b[0;31m         \u001b[0mcorrerExperimentos2\u001b[0m\u001b[0;34m(\u001b[0m\u001b[0minstancias\u001b[0m\u001b[0;34m,\u001b[0m \u001b[0margumentos\u001b[0m\u001b[0;34m,\u001b[0m \u001b[0mrepeticiones\u001b[0m\u001b[0;34m,\u001b[0m \u001b[0;34mF\"{tabu}_{algoritmo}_heuristica.csv\"\u001b[0m\u001b[0;34m)\u001b[0m\u001b[0;34m;\u001b[0m\u001b[0;34m\u001b[0m\u001b[0;34m\u001b[0m\u001b[0m\n\u001b[0m",
      "\u001b[0;32m<ipython-input-63-17dd667f1513>\u001b[0m in \u001b[0;36mcorrerExperimentos2\u001b[0;34m(instancias, argumentos, cant_repeticiones, output)\u001b[0m\n\u001b[1;32m     10\u001b[0m         \u001b[0mtiempos\u001b[0m \u001b[0;34m=\u001b[0m \u001b[0;34m[\u001b[0m\u001b[0;34m]\u001b[0m\u001b[0;34m;\u001b[0m\u001b[0;34m\u001b[0m\u001b[0;34m\u001b[0m\u001b[0m\n\u001b[1;32m     11\u001b[0m         \u001b[0;32mfor\u001b[0m \u001b[0mi\u001b[0m \u001b[0;32min\u001b[0m \u001b[0mrange\u001b[0m\u001b[0;34m(\u001b[0m\u001b[0;36m0\u001b[0m\u001b[0;34m,\u001b[0m \u001b[0mcant_repeticiones\u001b[0m\u001b[0;34m)\u001b[0m\u001b[0;34m:\u001b[0m\u001b[0;34m\u001b[0m\u001b[0;34m\u001b[0m\u001b[0m\n\u001b[0;32m---> 12\u001b[0;31m             \u001b[0mresultado\u001b[0m \u001b[0;34m=\u001b[0m \u001b[0mcorrerPrograma\u001b[0m\u001b[0;34m(\u001b[0m\u001b[0margumentos\u001b[0m\u001b[0;34m,\u001b[0m \u001b[0;34mF\"instancias/CMI_n{instancia}.in\"\u001b[0m\u001b[0;34m)\u001b[0m\u001b[0;34m;\u001b[0m\u001b[0;34m\u001b[0m\u001b[0;34m\u001b[0m\u001b[0m\n\u001b[0m\u001b[1;32m     13\u001b[0m             \u001b[0mimpactos\u001b[0m\u001b[0;34m.\u001b[0m\u001b[0mappend\u001b[0m\u001b[0;34m(\u001b[0m\u001b[0mresultado\u001b[0m\u001b[0;34m[\u001b[0m\u001b[0;36m0\u001b[0m\u001b[0;34m]\u001b[0m\u001b[0;34m)\u001b[0m\u001b[0;34m;\u001b[0m\u001b[0;34m\u001b[0m\u001b[0;34m\u001b[0m\u001b[0m\n\u001b[1;32m     14\u001b[0m             \u001b[0mtiempos\u001b[0m\u001b[0;34m.\u001b[0m\u001b[0mappend\u001b[0m\u001b[0;34m(\u001b[0m\u001b[0mresultado\u001b[0m\u001b[0;34m[\u001b[0m\u001b[0;36m1\u001b[0m\u001b[0;34m]\u001b[0m\u001b[0;34m)\u001b[0m\u001b[0;34m;\u001b[0m\u001b[0;34m\u001b[0m\u001b[0;34m\u001b[0m\u001b[0m\n",
      "\u001b[0;32m<ipython-input-19-67556b492900>\u001b[0m in \u001b[0;36mcorrerPrograma\u001b[0;34m(argumentos, instancia)\u001b[0m\n\u001b[1;32m      4\u001b[0m \u001b[0;34m\u001b[0m\u001b[0m\n\u001b[1;32m      5\u001b[0m     \u001b[0;31m#crear proceso para ejecutar el codigo.\u001b[0m\u001b[0;34m\u001b[0m\u001b[0;34m\u001b[0m\u001b[0;34m\u001b[0m\u001b[0m\n\u001b[0;32m----> 6\u001b[0;31m     \u001b[0mprocess\u001b[0m \u001b[0;34m=\u001b[0m \u001b[0msubprocess\u001b[0m\u001b[0;34m.\u001b[0m\u001b[0mPopen\u001b[0m\u001b[0;34m(\u001b[0m\u001b[0margumentos\u001b[0m\u001b[0;34m,\u001b[0m \u001b[0mstderr\u001b[0m\u001b[0;34m=\u001b[0m\u001b[0msubprocess\u001b[0m\u001b[0;34m.\u001b[0m\u001b[0mPIPE\u001b[0m\u001b[0;34m,\u001b[0m \u001b[0mstdout\u001b[0m\u001b[0;34m=\u001b[0m\u001b[0msubprocess\u001b[0m\u001b[0;34m.\u001b[0m\u001b[0mPIPE\u001b[0m\u001b[0;34m,\u001b[0m \u001b[0mstdin\u001b[0m\u001b[0;34m=\u001b[0m\u001b[0msubprocess\u001b[0m\u001b[0;34m.\u001b[0m\u001b[0mPIPE\u001b[0m\u001b[0;34m,\u001b[0m \u001b[0muniversal_newlines\u001b[0m \u001b[0;34m=\u001b[0m \u001b[0;32mTrue\u001b[0m\u001b[0;34m)\u001b[0m\u001b[0;34m\u001b[0m\u001b[0;34m\u001b[0m\u001b[0m\n\u001b[0m\u001b[1;32m      7\u001b[0m \u001b[0;34m\u001b[0m\u001b[0m\n\u001b[1;32m      8\u001b[0m     \u001b[0;31m#Poner la instancia en la entrada standar.\u001b[0m\u001b[0;34m\u001b[0m\u001b[0;34m\u001b[0m\u001b[0;34m\u001b[0m\u001b[0m\n",
      "\u001b[0;32m/usr/lib/python3.6/subprocess.py\u001b[0m in \u001b[0;36m__init__\u001b[0;34m(self, args, bufsize, executable, stdin, stdout, stderr, preexec_fn, close_fds, shell, cwd, env, universal_newlines, startupinfo, creationflags, restore_signals, start_new_session, pass_fds, encoding, errors)\u001b[0m\n\u001b[1;32m    727\u001b[0m                                 \u001b[0mc2pread\u001b[0m\u001b[0;34m,\u001b[0m \u001b[0mc2pwrite\u001b[0m\u001b[0;34m,\u001b[0m\u001b[0;34m\u001b[0m\u001b[0;34m\u001b[0m\u001b[0m\n\u001b[1;32m    728\u001b[0m                                 \u001b[0merrread\u001b[0m\u001b[0;34m,\u001b[0m \u001b[0merrwrite\u001b[0m\u001b[0;34m,\u001b[0m\u001b[0;34m\u001b[0m\u001b[0;34m\u001b[0m\u001b[0m\n\u001b[0;32m--> 729\u001b[0;31m                                 restore_signals, start_new_session)\n\u001b[0m\u001b[1;32m    730\u001b[0m         \u001b[0;32mexcept\u001b[0m\u001b[0;34m:\u001b[0m\u001b[0;34m\u001b[0m\u001b[0;34m\u001b[0m\u001b[0m\n\u001b[1;32m    731\u001b[0m             \u001b[0;31m# Cleanup if the child failed starting.\u001b[0m\u001b[0;34m\u001b[0m\u001b[0;34m\u001b[0m\u001b[0;34m\u001b[0m\u001b[0m\n",
      "\u001b[0;32m/usr/lib/python3.6/subprocess.py\u001b[0m in \u001b[0;36m_execute_child\u001b[0;34m(self, args, executable, preexec_fn, close_fds, pass_fds, cwd, env, startupinfo, creationflags, shell, p2cread, p2cwrite, c2pread, c2pwrite, errread, errwrite, restore_signals, start_new_session)\u001b[0m\n\u001b[1;32m   1285\u001b[0m                             for dir in os.get_exec_path(env))\n\u001b[1;32m   1286\u001b[0m                     \u001b[0mfds_to_keep\u001b[0m \u001b[0;34m=\u001b[0m \u001b[0mset\u001b[0m\u001b[0;34m(\u001b[0m\u001b[0mpass_fds\u001b[0m\u001b[0;34m)\u001b[0m\u001b[0;34m\u001b[0m\u001b[0;34m\u001b[0m\u001b[0m\n\u001b[0;32m-> 1287\u001b[0;31m                     \u001b[0mfds_to_keep\u001b[0m\u001b[0;34m.\u001b[0m\u001b[0madd\u001b[0m\u001b[0;34m(\u001b[0m\u001b[0merrpipe_write\u001b[0m\u001b[0;34m)\u001b[0m\u001b[0;34m\u001b[0m\u001b[0;34m\u001b[0m\u001b[0m\n\u001b[0m\u001b[1;32m   1288\u001b[0m                     self.pid = _posixsubprocess.fork_exec(\n\u001b[1;32m   1289\u001b[0m                             \u001b[0margs\u001b[0m\u001b[0;34m,\u001b[0m \u001b[0mexecutable_list\u001b[0m\u001b[0;34m,\u001b[0m\u001b[0;34m\u001b[0m\u001b[0;34m\u001b[0m\u001b[0m\n",
      "\u001b[0;31mKeyboardInterrupt\u001b[0m: "
     ]
    }
   ],
   "source": [
    "instancias = [6, 10, 14, 20, 24, 28];\n",
    "_instancias = [6, 8, 10, 12, 14, 16, 18, 20, 22, 24, 26, 28, 30];\n",
    "\n",
    "tabues = [\"TABU3\", \"TABU4\"];\n",
    "algoritmos_base = [\"H1\", \"H2\"];\n",
    "\n",
    "repeticiones = 3;\n",
    "for tabu in tabues:\n",
    "    for algoritmo in algoritmos_base:\n",
    "        argumentos = [\"./PCMI\", tabu, algoritmo, \"10\", \"10\", \"10\"];\n",
    "        correrExperimentos2(instancias, argumentos, repeticiones, F\"{tabu}_{algoritmo}_heuristica.csv\");"
   ]
  },
  {
   "cell_type": "markdown",
   "metadata": {},
   "source": [
    "#### Experimento 3: Configuración óptima para instancias complementarias ####"
   ]
  },
  {
   "cell_type": "code",
   "execution_count": 116,
   "metadata": {},
   "outputs": [
    {
     "name": "stdout",
     "output_type": "stream",
     "text": [
      "Instancia 6\n",
      "Instancia 10\n",
      "Instancia 14\n",
      "Instancia 20\n",
      "Instancia 24\n",
      "Instancia 28\n",
      "Instancia 6\n",
      "Instancia 10\n",
      "Instancia 14\n",
      "Instancia 20\n",
      "Instancia 24\n",
      "Instancia 28\n"
     ]
    }
   ],
   "source": [
    "instancias = [6, 10, 14, 20, 24, 28];\n",
    "complementarias = [8, 12, 16, 18, 22, 26, 30];\n",
    "_instancias = [6, 8, 10, 12, 14, 16, 18, 20, 22, 24, 26, 28, 30];\n",
    "\n",
    "tabues = [\"TABU3\", \"TABU4\"];\n",
    "\n",
    "repeticiones = 3;\n",
    "\n",
    "for tabu in tabues:\n",
    "    algoritmo_inicial = \"H2\";\n",
    "    _iteraciones = \"350\" if tabu == \"TABU3\" else \"150\";\n",
    "    vecindad = \"20\" if tabu == \"TABU3\" else \"70\";\n",
    "    _memoria = \"44\" if tabu == \"TABU3\" else \"1\";\n",
    "    \n",
    "    argumentos = [\"./PCMI\", tabu, algoritmo_inicial, _iteraciones, _memoria, vecindad];\n",
    "    correrExperimentos2(instancias, argumentos, repeticiones, F\"{tabu}_experimento3.csv\");"
   ]
  },
  {
   "cell_type": "code",
   "execution_count": null,
   "metadata": {},
   "outputs": [],
   "source": []
  }
 ],
 "metadata": {
  "kernelspec": {
   "display_name": "Python 3",
   "language": "python",
   "name": "python3"
  },
  "language_info": {
   "codemirror_mode": {
    "name": "ipython",
    "version": 3
   },
   "file_extension": ".py",
   "mimetype": "text/x-python",
   "name": "python",
   "nbconvert_exporter": "python",
   "pygments_lexer": "ipython3",
   "version": "3.6.9"
  }
 },
 "nbformat": 4,
 "nbformat_minor": 4
}
